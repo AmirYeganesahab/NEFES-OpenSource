{
 "cells": [
  {
   "cell_type": "code",
   "execution_count": 1,
   "metadata": {},
   "outputs": [],
   "source": [
    "import numpy as np\n",
    "from numpy.fft import fft2, ifft2"
   ]
  },
  {
   "cell_type": "code",
   "execution_count": 2,
   "metadata": {},
   "outputs": [],
   "source": [
    "def fourierExtrapolation2D(img, n_predict):\n",
    "    h, w = img.shape\n",
    "    n_harm = 10  # number of harmonics in the model\n",
    "\n",
    "    # Create a mesh grid of time indices\n",
    "    t_y, t_x = np.meshgrid(np.arange(h), np.arange(w), indexing='ij')\n",
    "\n",
    "    # Find linear trend in the image\n",
    "    p_y = np.polyfit(t_y.flatten(), img.flatten(), 1)\n",
    "    p_x = np.polyfit(t_x.flatten(), img.flatten(), 1)\n",
    "\n",
    "    # Detrend the image\n",
    "    img_notrend = img - np.outer(t_y.flatten(), p_y) - np.outer(t_x.flatten(), p_x)\n",
    "\n",
    "    # Compute 2D Fourier transform of detrended image\n",
    "    img_freqdom = fft2(img_notrend)\n",
    "\n",
    "    # Frequencies\n",
    "    f_y = np.fft.fftfreq(h)\n",
    "    f_x = np.fft.fftfreq(w)\n",
    "\n",
    "    # Sort indices by frequency, lower -> higher\n",
    "    indices_y = list(range(h))\n",
    "    indices_x = list(range(w))\n",
    "\n",
    "    indices_y.sort(key=lambda i: np.absolute(f_y[i]))\n",
    "    indices_x.sort(key=lambda i: np.absolute(f_x[i]))\n",
    "\n",
    "    # Create a mesh grid of prediction indices\n",
    "    t_predict_y, t_predict_x = np.meshgrid(np.arange(h + n_predict), np.arange(w + n_predict), indexing='ij')\n",
    "\n",
    "    # Initialize the restored image\n",
    "    restored_img = np.zeros((h + n_predict, w + n_predict))\n",
    "\n",
    "    for i in indices_y[:1 + n_harm * 2]:\n",
    "        for j in indices_x[:1 + n_harm * 2]:\n",
    "            ampli = np.absolute(img_freqdom[i, j]) / (h * w)  # amplitude\n",
    "            phase = np.angle(img_freqdom[i, j])  # phase\n",
    "            restored_img += ampli * np.cos(2 * np.pi * (f_y[i] * t_predict_y + f_x[j] * t_predict_x) + phase)\n",
    "\n",
    "    # Add back the linear trend\n",
    "    restored_img += np.outer(t_predict_y.flatten(), p_y) + np.outer(t_predict_x.flatten(), p_x)\n",
    "\n",
    "    return restored_img\n"
   ]
  },
  {
   "cell_type": "code",
   "execution_count": null,
   "metadata": {},
   "outputs": [],
   "source": []
  }
 ],
 "metadata": {
  "kernelspec": {
   "display_name": "Python 3",
   "language": "python",
   "name": "python3"
  },
  "language_info": {
   "codemirror_mode": {
    "name": "ipython",
    "version": 3
   },
   "file_extension": ".py",
   "mimetype": "text/x-python",
   "name": "python",
   "nbconvert_exporter": "python",
   "pygments_lexer": "ipython3",
   "version": "3.10.12"
  }
 },
 "nbformat": 4,
 "nbformat_minor": 2
}
